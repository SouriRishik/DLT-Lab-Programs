{
 "cells": [
  {
   "cell_type": "markdown",
   "id": "0725ee03-d578-4a02-96cb-27db47e6b09b",
   "metadata": {},
   "source": [
    "## Name: Souri Rishik Volety\n",
    "## Reg No: 230968004"
   ]
  },
  {
   "cell_type": "code",
   "execution_count": null,
   "id": "bdd21c36-ac1e-4bb1-9fe9-63448a0283e1",
   "metadata": {},
   "outputs": [],
   "source": []
  }
 ],
 "metadata": {
  "kernelspec": {
   "display_name": "Python 3 (ipykernel)",
   "language": "python",
   "name": "python3"
  },
  "language_info": {
   "codemirror_mode": {
    "name": "ipython",
    "version": 3
   },
   "file_extension": ".py",
   "mimetype": "text/x-python",
   "name": "python",
   "nbconvert_exporter": "python",
   "pygments_lexer": "ipython3",
   "version": "3.8.19"
  }
 },
 "nbformat": 4,
 "nbformat_minor": 5
}
